{
  "nbformat": 4,
  "nbformat_minor": 0,
  "metadata": {
    "colab": {
      "provenance": []
    },
    "kernelspec": {
      "name": "python3",
      "display_name": "Python 3"
    },
    "language_info": {
      "name": "python"
    }
  },
  "cells": [
    {
      "cell_type": "code",
      "source": [
        "import torch"
      ],
      "metadata": {
        "id": "ttSdfyzQvT3B"
      },
      "execution_count": 2,
      "outputs": []
    },
    {
      "cell_type": "code",
      "execution_count": 13,
      "metadata": {
        "id": "p1QwX1ARvDab"
      },
      "outputs": [],
      "source": [
        "class DenseLayer:\n",
        "  def __init__ (self, n_inputs, n_neurons):\n",
        "    self.weights = 0.01 * torch.rand(size=(n_inputs, n_neurons))\n",
        "    self.bias = torch.zeros((1, n_neurons))\n",
        "  def forward(self, inputs):\n",
        "    self.output = torch.matmul(inputs, self.weights) + self.bias"
      ]
    },
    {
      "cell_type": "code",
      "source": [
        "x = torch.rand(size=(32, 5))\n",
        "# 5, 16, 16, 16, 5\n",
        "layer1 = DenseLayer(5, 16)\n",
        "layer1.forward(x)\n",
        "\n",
        "layer2 = DenseLayer(16, 16)\n",
        "layer2.forward(layer1.output)\n",
        "\n",
        "layer3 = DenseLayer(16, 16)\n",
        "layer3.forward(layer2.output)\n",
        "\n",
        "final_class = DenseLayer(16, 5)\n",
        "final_class.forward(layer3.output)\n",
        "\n",
        "final_class.output.shape"
      ],
      "metadata": {
        "colab": {
          "base_uri": "https://localhost:8080/"
        },
        "id": "NpbsL537vR7P",
        "outputId": "a7f6f43d-cc07-49fd-fa2f-369866b94cd6"
      },
      "execution_count": 16,
      "outputs": [
        {
          "output_type": "execute_result",
          "data": {
            "text/plain": [
              "torch.Size([32, 5])"
            ]
          },
          "metadata": {},
          "execution_count": 16
        }
      ]
    }
  ]
}