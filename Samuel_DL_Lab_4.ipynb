{
  "cells": [
    {
      "cell_type": "code",
      "execution_count": 1,
      "metadata": {
        "id": "blA5esJtdFVP"
      },
      "outputs": [],
      "source": [
        "import torch"
      ]
    },
    {
      "cell_type": "markdown",
      "metadata": {
        "id": "rurwL-W2PoIN"
      },
      "source": [
        "## Creating Layers"
      ]
    },
    {
      "cell_type": "code",
      "execution_count": 67,
      "metadata": {
        "id": "owY9mN1oPAal"
      },
      "outputs": [],
      "source": [
        "class DenseLayer:\n",
        "  # Layer initialization\n",
        "  def __init__(self, n_inputs, n_neurons):\n",
        "    # Initialize weights and biases\n",
        "    self.weights = 0.01 * torch.rand(n_inputs, n_neurons)\n",
        "    self.biases = torch.zeros((1, n_neurons))\n",
        "\n",
        "  # Forward pass\n",
        "  def forward(self, inputs):\n",
        "    # Calculate output values from inputs, weights and biases\n",
        "    self.inputs = inputs\n",
        "    self.output = torch.matmul(inputs, self.weights) + self.biases\n",
        ""
      ]
    },
    {
      "cell_type": "markdown",
      "metadata": {
        "id": "Ajjr0QcUP8tA"
      },
      "source": [
        "## Activation Functions"
      ]
    },
    {
      "cell_type": "markdown",
      "metadata": {
        "id": "_E-apHeQahmI"
      },
      "source": [
        "### Sigmoid"
      ]
    },
    {
      "cell_type": "code",
      "execution_count": 68,
      "metadata": {
        "id": "nlf-0k4OaffJ"
      },
      "outputs": [],
      "source": [
        "class Activation_Sigmoid:\n",
        "  # Forward pass\n",
        "  def forward(self, inputs):\n",
        "    self.output = 1 / (1 + torch.exp(inputs*-1))"
      ]
    },
    {
      "cell_type": "markdown",
      "metadata": {
        "id": "JQrWxiXBax30"
      },
      "source": [
        "### Linear"
      ]
    },
    {
      "cell_type": "code",
      "execution_count": 69,
      "metadata": {
        "id": "wF2Lf9ESTOOU"
      },
      "outputs": [],
      "source": [
        "class Activation_Linear:\n",
        "    def forward(self, inputs):\n",
        "        self.output = inputs"
      ]
    },
    {
      "cell_type": "markdown",
      "metadata": {
        "id": "x7usBC_5fprz"
      },
      "source": [
        "## Loss and Accuracy"
      ]
    },
    {
      "cell_type": "code",
      "execution_count": 70,
      "metadata": {
        "id": "Afw7KXuNhJIy"
      },
      "outputs": [],
      "source": [
        "class Accuracy:\n",
        "    def compute(self, predictions, actuals):\n",
        "        pred_labels = torch.argmax(predictions, dim=1)\n",
        "        if len(actuals.shape) == 2:\n",
        "            actuals = torch.argmax(actuals, dim=1)\n",
        "        acc = torch.mean((pred_labels == actuals).float())\n",
        "        return acc\n",
        "\n",
        "def MeanSquaredError(actual, predicted):\n",
        "    mse = torch.mean(0.5 * (actual - predicted) ** 2)\n",
        "    return mse\n"
      ]
    },
    {
      "cell_type": "markdown",
      "metadata": {
        "id": "JgsrnHycPs3D"
      },
      "source": [
        "\n",
        "### Preparing Dataset"
      ]
    },
    {
      "cell_type": "code",
      "execution_count": 79,
      "metadata": {
        "id": "RQ5WMJ5YPL2W"
      },
      "outputs": [],
      "source": [
        "# Create dataset\n",
        "X = torch.rand(4,2)\n",
        "y = torch.rand(4, 2)"
      ]
    },
    {
      "cell_type": "code",
      "source": [
        "hidden_layer_1 = DenseLayer(2, 4)\n",
        "activation1 = Activation_Sigmoid()\n",
        "output_layer = DenseLayer(4, 2)\n",
        "activation2 = Activation_Linear()"
      ],
      "metadata": {
        "id": "Jd0GKTcYnCZY"
      },
      "execution_count": 80,
      "outputs": []
    },
    {
      "cell_type": "code",
      "source": [
        "def forward_pass(X):\n",
        "  hidden_layer_1.forward(X)\n",
        "\n",
        "  activation1.forward(hidden_layer_1.output)\n",
        "  output_layer.forward(activation1.output)\n",
        "\n",
        "  activation2.forward(output_layer.output)\n",
        "  return activation2.output"
      ],
      "metadata": {
        "id": "WAoeJRRJRArn"
      },
      "execution_count": 81,
      "outputs": []
    },
    {
      "cell_type": "code",
      "source": [
        "def backward_propagation(fp):\n",
        "    lr = 0.01  # Make sure learning rate is a scalar\n",
        "\n",
        "    # Calculate errors and derivatives for output layer (assuming sigmoid activation)\n",
        "    error_output = (fp - y) * fp * (1 - fp)  # Element-wise multiplication\n",
        "    gradient_output = torch.matmul(activation1.output.T, error_output)\n",
        "\n",
        "    # Update weights and biases for output layer\n",
        "    output_layer.weights -= lr * gradient_output\n",
        "    output_layer.biases -= lr * error_output.sum(axis=0)\n",
        "\n",
        "    # Backpropagate the error to hidden layer\n",
        "    error_hidden = torch.matmul(error_output, output_layer.weights.T) * activation1.output * (1 - activation1.output)\n",
        "    gradient_hidden = torch.matmul(X.T, error_hidden)\n",
        "\n",
        "    # Update weights and biases for hidden layer\n",
        "    hidden_layer_1.weights -= lr * gradient_hidden\n",
        "    hidden_layer_1.biases -= lr * error_hidden.sum(axis=0)"
      ],
      "metadata": {
        "id": "cJePM510S1HH"
      },
      "execution_count": 82,
      "outputs": []
    },
    {
      "cell_type": "code",
      "source": [
        "y_pred = forward_pass(X)\n",
        "err = MeanSquaredError(y, y_pred)\n",
        "print(\"Initial loss:\", err)\n",
        "print(\"Initial prediction:\",y_pred)\n",
        "epoch = 1000\n",
        "for i in range(epoch):\n",
        "  backward_propagation(y_pred)\n",
        "  y_pred = forward_pass(X)\n",
        "  err = MeanSquaredError(y, y_pred)\n",
        "  if i%100==0:\n",
        "    print(\"---------------------------------------------\")\n",
        "    print(f\"epoch {i} loss:\", err)\n",
        "    print(\"prediction:\",y_pred)\n",
        "    print(\"Target value:\",y)\n",
        "    print(\"---------------------------------------------\")"
      ],
      "metadata": {
        "id": "taOHtItDTR28",
        "colab": {
          "base_uri": "https://localhost:8080/"
        },
        "outputId": "8011d927-f1b6-4ad4-bcc2-66874446aba1"
      },
      "execution_count": 83,
      "outputs": [
        {
          "output_type": "stream",
          "name": "stdout",
          "text": [
            "Initial loss: tensor(0.1504)\n",
            "Initial prediction: tensor([[0.0061, 0.0145],\n",
            "        [0.0061, 0.0145],\n",
            "        [0.0061, 0.0145],\n",
            "        [0.0061, 0.0145]])\n",
            "---------------------------------------------\n",
            "epoch 0 loss: tensor(0.1502)\n",
            "prediction: tensor([[0.0063, 0.0150],\n",
            "        [0.0063, 0.0150],\n",
            "        [0.0063, 0.0150],\n",
            "        [0.0063, 0.0150]])\n",
            "Target value: tensor([[0.7704, 0.4369],\n",
            "        [0.4038, 0.5769],\n",
            "        [0.0436, 0.3361],\n",
            "        [0.9852, 0.3400]])\n",
            "---------------------------------------------\n",
            "---------------------------------------------\n",
            "epoch 100 loss: tensor(0.0754)\n",
            "prediction: tensor([[0.2208, 0.1898],\n",
            "        [0.2206, 0.1896],\n",
            "        [0.2206, 0.1896],\n",
            "        [0.2206, 0.1897]])\n",
            "Target value: tensor([[0.7704, 0.4369],\n",
            "        [0.4038, 0.5769],\n",
            "        [0.0436, 0.3361],\n",
            "        [0.9852, 0.3400]])\n",
            "---------------------------------------------\n",
            "---------------------------------------------\n",
            "epoch 200 loss: tensor(0.0357)\n",
            "prediction: tensor([[0.5018, 0.3804],\n",
            "        [0.5011, 0.3798],\n",
            "        [0.5011, 0.3798],\n",
            "        [0.5013, 0.3800]])\n",
            "Target value: tensor([[0.7704, 0.4369],\n",
            "        [0.4038, 0.5769],\n",
            "        [0.0436, 0.3361],\n",
            "        [0.9852, 0.3400]])\n",
            "---------------------------------------------\n",
            "---------------------------------------------\n",
            "epoch 300 loss: tensor(0.0346)\n",
            "prediction: tensor([[0.5452, 0.4172],\n",
            "        [0.5442, 0.4164],\n",
            "        [0.5442, 0.4164],\n",
            "        [0.5446, 0.4167]])\n",
            "Target value: tensor([[0.7704, 0.4369],\n",
            "        [0.4038, 0.5769],\n",
            "        [0.0436, 0.3361],\n",
            "        [0.9852, 0.3400]])\n",
            "---------------------------------------------\n",
            "---------------------------------------------\n",
            "epoch 400 loss: tensor(0.0346)\n",
            "prediction: tensor([[0.5509, 0.4223],\n",
            "        [0.5497, 0.4214],\n",
            "        [0.5497, 0.4214],\n",
            "        [0.5502, 0.4218]])\n",
            "Target value: tensor([[0.7704, 0.4369],\n",
            "        [0.4038, 0.5769],\n",
            "        [0.0436, 0.3361],\n",
            "        [0.9852, 0.3400]])\n",
            "---------------------------------------------\n",
            "---------------------------------------------\n",
            "epoch 500 loss: tensor(0.0346)\n",
            "prediction: tensor([[0.5518, 0.4231],\n",
            "        [0.5503, 0.4220],\n",
            "        [0.5504, 0.4220],\n",
            "        [0.5510, 0.4225]])\n",
            "Target value: tensor([[0.7704, 0.4369],\n",
            "        [0.4038, 0.5769],\n",
            "        [0.0436, 0.3361],\n",
            "        [0.9852, 0.3400]])\n",
            "---------------------------------------------\n",
            "---------------------------------------------\n",
            "epoch 600 loss: tensor(0.0346)\n",
            "prediction: tensor([[0.5520, 0.4233],\n",
            "        [0.5504, 0.4220],\n",
            "        [0.5505, 0.4221],\n",
            "        [0.5511, 0.4226]])\n",
            "Target value: tensor([[0.7704, 0.4369],\n",
            "        [0.4038, 0.5769],\n",
            "        [0.0436, 0.3361],\n",
            "        [0.9852, 0.3400]])\n",
            "---------------------------------------------\n",
            "---------------------------------------------\n",
            "epoch 700 loss: tensor(0.0345)\n",
            "prediction: tensor([[0.5521, 0.4234],\n",
            "        [0.5503, 0.4220],\n",
            "        [0.5504, 0.4220],\n",
            "        [0.5512, 0.4226]])\n",
            "Target value: tensor([[0.7704, 0.4369],\n",
            "        [0.4038, 0.5769],\n",
            "        [0.0436, 0.3361],\n",
            "        [0.9852, 0.3400]])\n",
            "---------------------------------------------\n",
            "---------------------------------------------\n",
            "epoch 800 loss: tensor(0.0345)\n",
            "prediction: tensor([[0.5523, 0.4234],\n",
            "        [0.5503, 0.4219],\n",
            "        [0.5504, 0.4220],\n",
            "        [0.5512, 0.4226]])\n",
            "Target value: tensor([[0.7704, 0.4369],\n",
            "        [0.4038, 0.5769],\n",
            "        [0.0436, 0.3361],\n",
            "        [0.9852, 0.3400]])\n",
            "---------------------------------------------\n",
            "---------------------------------------------\n",
            "epoch 900 loss: tensor(0.0345)\n",
            "prediction: tensor([[0.5524, 0.4235],\n",
            "        [0.5502, 0.4218],\n",
            "        [0.5504, 0.4219],\n",
            "        [0.5513, 0.4227]])\n",
            "Target value: tensor([[0.7704, 0.4369],\n",
            "        [0.4038, 0.5769],\n",
            "        [0.0436, 0.3361],\n",
            "        [0.9852, 0.3400]])\n",
            "---------------------------------------------\n"
          ]
        }
      ]
    }
  ],
  "metadata": {
    "colab": {
      "provenance": []
    },
    "kernelspec": {
      "display_name": "Python 3",
      "name": "python3"
    },
    "language_info": {
      "name": "python"
    }
  },
  "nbformat": 4,
  "nbformat_minor": 0
}