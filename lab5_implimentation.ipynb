{
  "nbformat": 4,
  "nbformat_minor": 0,
  "metadata": {
    "colab": {
      "provenance": []
    },
    "kernelspec": {
      "name": "python3",
      "display_name": "Python 3"
    },
    "language_info": {
      "name": "python"
    }
  },
  "cells": [
    {
      "cell_type": "code",
      "execution_count": null,
      "metadata": {
        "id": "wWxE1CPa5-qY"
      },
      "outputs": [],
      "source": [
        "import torch"
      ]
    },
    {
      "cell_type": "markdown",
      "source": [
        "## Creating Layers"
      ],
      "metadata": {
        "id": "fM3XenkL6IGL"
      }
    },
    {
      "cell_type": "code",
      "source": [
        "class DenseLayer:\n",
        "  # Layer initialization\n",
        "  def __init__(self, n_inputs, n_neurons):\n",
        "    # Initialize weights and biases\n",
        "    self.weights = 0.01 * torch.rand(n_inputs, n_neurons)\n",
        "    self.biases = torch.zeros((1, n_neurons))\n",
        "\n",
        "  # Forward pass\n",
        "  def forward(self, inputs):\n",
        "    # record the inputs\n",
        "    self.inputs = inputs\n",
        "    # Calculate output values from inputs, weights and biases\n",
        "    self.output = torch.matmul(inputs, self.weights) + self.biases\n",
        "\n",
        "  # Backward pass\n",
        "  def backward(self, dvalues):\n",
        "    # Gradients on parameters\n",
        "    self.dweights = torch.dot(self.inputs.T, dvalues)\n",
        "    self.dbiases = torch.sum(dvalues, axis=0, keepdims=True)\n",
        "    # Gradient on values\n",
        "    self.dinputs = torch.dot(dvalues, self.weights.T)"
      ],
      "metadata": {
        "id": "wxjHeQ2L6EG5"
      },
      "execution_count": 3,
      "outputs": []
    },
    {
      "cell_type": "markdown",
      "source": [
        "## Activation Functions"
      ],
      "metadata": {
        "id": "KU4g8R5m6L4W"
      }
    },
    {
      "cell_type": "code",
      "source": [
        "class Activation_ReLU:\n",
        "\n",
        "  # Forward pass\n",
        "  def forward(self, inputs):\n",
        "    # Remember input values\n",
        "    self.inputs = inputs\n",
        "    self.output = torch.max(torch.tensor(0),inputs)\n",
        "  # Backward pass\n",
        "  def backward(self, dvalues):\n",
        "    self.dinputs = dvalues\n",
        "    # Zero gradient where input values were negative\n",
        "    self.dinputs[self.inputs <= 0] = 0\n",
        "\n",
        "\n",
        "class Activation_Softmax:\n",
        "\n",
        "  # Forward pass\n",
        "  def forward(self, inputs):\n",
        "    exp_values = torch.exp(inputs - torch.max(inputs, axis=1, keepdim=True).values)\n",
        "    probabilities = exp_values / torch.sum(exp_values, axis=1, keepdim=True)\n",
        "    self.output = probabilities\n",
        "\n",
        "  # Backward pass\n",
        "  def backward(self, dvalues):\n",
        "    # Create uninitialized array\n",
        "    self.dinputs = torch.empty_like(dvalues)\n",
        "    # Enumerate outputs and gradients\n",
        "    for index, (single_output, single_dvalues) in enumerate(zip(self.output, dvalues)):\n",
        "      # Flatten output array\n",
        "      single_output = single_output.reshape(-1, 1)\n",
        "      # Calculate Jacobian matrix of the output and\n",
        "      jacobian_matrix = torch.diagflat(single_output) - torch.dot(single_output, single_output.T)\n",
        "    self.dinputs[index] = torch.dot(jacobian_matrix, single_dvalues)\n",
        "\n",
        "\n",
        "class Activation_Sigmoid:\n",
        "\n",
        "  # Forward pass\n",
        "  def forward(self, inputs):\n",
        "    self.output = 1 / (1 + torch.exp(-inputs))\n",
        "\n",
        "  # Backward pass\n",
        "  def backward(self, dvalues):\n",
        "    # Derivative of sigmoid\n",
        "    sigmoid_derivative = self.output * (1 - self.output)\n",
        "    # Calculate sample-wise gradient\n",
        "    self.dinputs = dvalues * sigmoid_derivative"
      ],
      "metadata": {
        "id": "ekTPeeh06O2f"
      },
      "execution_count": 4,
      "outputs": []
    },
    {
      "cell_type": "markdown",
      "source": [
        "## Loss"
      ],
      "metadata": {
        "id": "4xr7FgVh6ZbX"
      }
    },
    {
      "cell_type": "code",
      "source": [
        "class Loss_CategoricalCrossentropy() :\n",
        "\n",
        "  # Forward pass\n",
        "  def forward(self, y_pred, y_true):\n",
        "    samples = len(y_pred)\n",
        "    # Clip data to prevent division by 0\n",
        "    # Clip both sides to not drag mean towards any value\n",
        "    y_pred_clipped = torch.clip(y_pred, 1e-8, 1 - 1e-8)\n",
        "    # only if categorical labels\n",
        "    if len(y_true.shape) == 1:\n",
        "      correct_confidences = y_pred_clipped[range(samples), y_true]\n",
        "    # Mask values - only for one-hot encoded labels\n",
        "    elif len(y_true.shape) == 2:\n",
        "      correct_confidences = torch.sum(y_pred_clipped * y_true, axis=1)\n",
        "    log_loss = -torch.log(correct_confidences)\n",
        "    data_loss = torch.mean(log_loss)\n",
        "    return data_loss\n",
        "\n",
        "  # Backward pass\n",
        "  def backward(self, dvalues, y_true):\n",
        "    # Number of samples\n",
        "    samples = len(dvalues)\n",
        "    labels = len(dvalues[0])\n",
        "    # If labels are sparse, turn them into one-hot vector\n",
        "    if len(y_true.shape) == 1:\n",
        "      y_true = torch.eye(labels)[y_true]\n",
        "    # Calculate gradient\n",
        "    self.dinputs = -y_true / dvalues\n",
        "    # Normalize gradient\n",
        "    self.dinputs = self.dinputs / samples\n",
        "\n",
        "\n",
        "class Loss_MeanSquaredError():\n",
        "    # Forward pass\n",
        "    def forward(self, y_pred, y_true):\n",
        "        # Calculate the mean squared error loss\n",
        "        data_loss = torch.mean((y_pred - y_true) ** 2)\n",
        "        return data_loss\n",
        "\n",
        "    # Backward pass\n",
        "    def backward(self, dvalues, y_true):\n",
        "        # Number of samples\n",
        "        samples = len(dvalues)\n",
        "        # Gradient of the Mean Squared Error loss\n",
        "        self.dinputs = 2 * (dvalues - y_true) / samples\n",
        "        return self.dinputs\n",
        ""
      ],
      "metadata": {
        "id": "T2sIQaNy6Z8N"
      },
      "execution_count": 5,
      "outputs": []
    },
    {
      "cell_type": "markdown",
      "source": [
        "## Accuracy"
      ],
      "metadata": {
        "id": "OW9KB2zJ6gTm"
      }
    },
    {
      "cell_type": "code",
      "source": [
        "class Accuracy():\n",
        "  def calculate(self, y_pred, y_true):\n",
        "    predictions = torch.argmax(y_pred, axis=1)\n",
        "    if len(y_true.shape) == 2:\n",
        "      y_true = torch.argmax(y_true, axis=1)\n",
        "    accuracy = torch.mean((predictions == y_true).float())\n",
        "    return accuracy"
      ],
      "metadata": {
        "id": "OQLwwN_46fQw"
      },
      "execution_count": 6,
      "outputs": []
    },
    {
      "cell_type": "markdown",
      "source": [
        "## Optimizers"
      ],
      "metadata": {
        "id": "l-n8cS691KcR"
      }
    },
    {
      "cell_type": "code",
      "source": [
        "class Optimizer_SGD:\n",
        "  # Initialize optimizer - set settings,\n",
        "  def __init__(self, learning_rate=0.01):\n",
        "    self.learning_rate = learning_rate\n",
        "  # Update parameters\n",
        "  def update_params(self, layer):\n",
        "    layer.weights += -self.learning_rate * layer.dweights\n",
        "    layer.biases += -self.learning_rate * layer.dbiases"
      ],
      "metadata": {
        "id": "Kr7PNtTD1QZi"
      },
      "execution_count": 7,
      "outputs": []
    },
    {
      "cell_type": "markdown",
      "source": [
        "## Training and Testing"
      ],
      "metadata": {
        "id": "poYXhvM72AcG"
      }
    },
    {
      "cell_type": "code",
      "source": [
        "import numpy as np\n",
        "from sklearn.datasets import load_iris\n",
        "import torch"
      ],
      "metadata": {
        "id": "2XgPAnKr2QDx"
      },
      "execution_count": 10,
      "outputs": []
    },
    {
      "cell_type": "code",
      "source": [
        "# Load the Iris dataset from scikit-learn\n",
        "iris = load_iris()\n",
        "X = iris.data\n",
        "y = iris.target"
      ],
      "metadata": {
        "id": "fpNYiNhd2RFa"
      },
      "execution_count": 8,
      "outputs": []
    },
    {
      "cell_type": "code",
      "source": [
        "# Convert the NumPy arrays to PyTorch tensors\n",
        "X = torch.tensor(X, dtype=torch.float32)\n",
        "y = torch.tensor(y, dtype=torch.int64)"
      ],
      "metadata": {
        "id": "Ymhw7fKV2T8d"
      },
      "execution_count": 11,
      "outputs": []
    },
    {
      "cell_type": "code",
      "source": [
        "print(\"X shape:\", X.shape)\n",
        "print(\"y shape:\", y.shape)\n",
        "print(\"Feature names:\", iris.feature_names)\n",
        "print(\"Class names:\", iris.target_names)\n",
        "print(X[:5])\n",
        "print(y[:5])"
      ],
      "metadata": {
        "colab": {
          "base_uri": "https://localhost:8080/"
        },
        "id": "pE5pvxKk2WZG",
        "outputId": "11817830-8812-4cda-a8b5-60903b9ac781"
      },
      "execution_count": 12,
      "outputs": [
        {
          "output_type": "stream",
          "name": "stdout",
          "text": [
            "X shape: torch.Size([150, 4])\n",
            "y shape: torch.Size([150])\n",
            "Feature names: ['sepal length (cm)', 'sepal width (cm)', 'petal length (cm)', 'petal width (cm)']\n",
            "Class names: ['setosa' 'versicolor' 'virginica']\n",
            "tensor([[5.1000, 3.5000, 1.4000, 0.2000],\n",
            "        [4.9000, 3.0000, 1.4000, 0.2000],\n",
            "        [4.7000, 3.2000, 1.3000, 0.2000],\n",
            "        [4.6000, 3.1000, 1.5000, 0.2000],\n",
            "        [5.0000, 3.6000, 1.4000, 0.2000]])\n",
            "tensor([0, 0, 0, 0, 0])\n"
          ]
        }
      ]
    },
    {
      "cell_type": "code",
      "source": [
        "dense1 = DenseLayer(4, 16)\n",
        "activation1 = Activation_ReLU()\n",
        "dense2 = DenseLayer(16, 3)\n",
        "activation2 = Activation_Softmax()\n",
        "loss = Loss_CategoricalCrossentropy()\n",
        "optimizer = Optimizer_SGD()"
      ],
      "metadata": {
        "id": "Pqxi6JpM3SM5"
      },
      "execution_count": 13,
      "outputs": []
    }
  ]
}