{
  "cells": [
    {
      "cell_type": "code",
      "execution_count": null,
      "metadata": {
        "id": "Nqn_E_CrbL8V"
      },
      "outputs": [],
      "source": [
        "import torch"
      ]
    },
    {
      "cell_type": "code",
      "execution_count": null,
      "metadata": {
        "id": "l08Ti7dJTM4a"
      },
      "outputs": [],
      "source": [
        "class DenseLayer:\n",
        "\n",
        "  # Layer initialization\n",
        "  def __init__(self, n_inputs, n_neurons):\n",
        "    # Initialize weights and biases\n",
        "    self.weights = 0.01 * torch.rand(n_inputs, n_neurons)\n",
        "    self.biases = torch.zeros((1, n_neurons))\n",
        "\n",
        "  # Forward pass\n",
        "  def forward(self, inputs):\n",
        "    # Calculate output values from inputs, weights and biases\n",
        "    self.output = torch.matmul(inputs, self.weights) + self.biases"
      ]
    },
    {
      "cell_type": "code",
      "execution_count": null,
      "metadata": {
        "id": "9GNf0n9RTT_x"
      },
      "outputs": [],
      "source": [
        "# ReLU activation\n",
        "class Activation_ReLU:\n",
        "  # Forward pass\n",
        "  def forward(self, inputs):\n",
        "    self.output = torch.max(inputs, torch.tensor(0))\n",
        "    return self.output"
      ]
    },
    {
      "cell_type": "code",
      "execution_count": null,
      "metadata": {
        "id": "MRcHHEIAbayu"
      },
      "outputs": [],
      "source": [
        "# Sigmoid activation\n",
        "class Activation_Sigmoid:\n",
        "  # Forward pass\n",
        "  def forward(self, inputs):\n",
        "    self.output = 1 / (1 + torch.exp(-inputs))"
      ]
    },
    {
      "cell_type": "code",
      "execution_count": null,
      "metadata": {
        "id": "1uetGo3HcD2G"
      },
      "outputs": [],
      "source": [
        "# softmax activation\n",
        "class Activation_Softmax:\n",
        "    # Forward pass\n",
        "    def forward(self, inputs):\n",
        "        # Get unnormalized probabilities (logits)\n",
        "        exp_values = torch.exp(inputs - torch.max(inputs, dim=-1, keepdim=True)[0])\n",
        "\n",
        "        # Normalize them for each sample\n",
        "        probabilities = exp_values / torch.sum(exp_values, dim=-1, keepdim=True)\n",
        "\n",
        "        self.output = probabilities\n",
        "        return probabilities"
      ]
    },
    {
      "cell_type": "code",
      "execution_count": null,
      "metadata": {},
      "outputs": [],
      "source": [
        "class Loss_CategoricalCrossentropy():\n",
        "    def forward(self, y_pred, y_true):\n",
        "        # Ensure probabilities do not equal 0\n",
        "        y_pred_clipped = torch.clamp(y_pred, 1e-7, 1 - 1e-7)\n",
        "\n",
        "        # If targets are one-hot encoded, convert them to discrete labels\n",
        "        if len(y_true.shape) == 2:\n",
        "            y_true = torch.argmax(y_true, dim=1)\n",
        "\n",
        "        # Get the predicted probabilities for the correct classes\n",
        "        correct_confidences = y_pred_clipped[torch.arange(len(y_pred)), y_true]\n",
        "\n",
        "        # Calculate the negative log likelihood\n",
        "        negative_log_likelihoods = -torch.log(correct_confidences)\n",
        "\n",
        "        # Calculate the overall loss as the average of individual sample losses\n",
        "        loss = torch.mean(negative_log_likelihoods)\n",
        "\n",
        "        return loss"
      ]
    },
    {
      "cell_type": "code",
      "execution_count": null,
      "metadata": {},
      "outputs": [],
      "source": [
        "def calculate_accuracy(y_pred, y_true):\n",
        "    # Convert predicted probabilities to class labels\n",
        "    y_pred_labels = torch.argmax(y_pred, dim=1)\n",
        "    \n",
        "    # Compare predicted labels to true labels\n",
        "    correct_predictions = (y_pred_labels == y_true).sum().item()\n",
        "    \n",
        "    # Calculate accuracy as the percentage of correct predictions\n",
        "    total_samples = len(y_true)\n",
        "    accuracy = correct_predictions / total_samples \n",
        "    \n",
        "    return accuracy"
      ]
    },
    {
      "cell_type": "markdown",
      "metadata": {
        "id": "C6ItjY-0gMGW"
      },
      "source": [
        "#Initialize the layers"
      ]
    },
    {
      "cell_type": "code",
      "execution_count": null,
      "metadata": {
        "id": "nDKsZbpifId0"
      },
      "outputs": [],
      "source": [
        "# input layer\n",
        "layer1 = DenseLayer(4, 18)\n",
        "layer2 = DenseLayer(18, 18)\n",
        "layer3 = DenseLayer(18, 18)\n",
        "output_layer = DenseLayer(18, 3)"
      ]
    },
    {
      "cell_type": "markdown",
      "metadata": {
        "id": "oDOqGTfqhFtT"
      },
      "source": [
        "#Initialize the activation functions"
      ]
    },
    {
      "cell_type": "code",
      "execution_count": null,
      "metadata": {
        "id": "H1pQ6uFKhNep"
      },
      "outputs": [],
      "source": [
        "relu_activation = Activation_ReLU()\n",
        "sigmoid_activation = Activation_Sigmoid()\n",
        "softmax_activation = Activation_Softmax()\n",
        "loss_categorical = Loss_CategoricalCrossentropy()"
      ]
    },
    {
      "cell_type": "markdown",
      "metadata": {
        "id": "-kRhsY9lgfzb"
      },
      "source": [
        "initialize the first input"
      ]
    },
    {
      "cell_type": "code",
      "execution_count": null,
      "metadata": {
        "id": "HTr9miRIgYMA"
      },
      "outputs": [],
      "source": [
        "input1 = torch.rand(32, 4)\n"
      ]
    },
    {
      "cell_type": "markdown",
      "metadata": {
        "id": "OB7qCsLjlRvZ"
      },
      "source": [
        "Working with relu activation for hidden layer and softmax for the output layer"
      ]
    },
    {
      "cell_type": "code",
      "execution_count": null,
      "metadata": {
        "colab": {
          "base_uri": "https://localhost:8080/"
        },
        "id": "LfcTzzxJld_U",
        "outputId": "60cb0ca1-833d-48b3-b16a-a85cbf3fdbe0"
      },
      "outputs": [
        {
          "data": {
            "text/plain": [
              "tensor([[0.3333, 0.3333, 0.3333],\n",
              "        [0.3333, 0.3333, 0.3333],\n",
              "        [0.3333, 0.3333, 0.3333],\n",
              "        [0.3333, 0.3333, 0.3333],\n",
              "        [0.3333, 0.3333, 0.3333],\n",
              "        [0.3333, 0.3333, 0.3333],\n",
              "        [0.3333, 0.3333, 0.3333],\n",
              "        [0.3333, 0.3333, 0.3333],\n",
              "        [0.3333, 0.3333, 0.3333],\n",
              "        [0.3333, 0.3333, 0.3333],\n",
              "        [0.3333, 0.3333, 0.3333],\n",
              "        [0.3333, 0.3333, 0.3333],\n",
              "        [0.3333, 0.3333, 0.3333],\n",
              "        [0.3333, 0.3333, 0.3333],\n",
              "        [0.3333, 0.3333, 0.3333],\n",
              "        [0.3333, 0.3333, 0.3333],\n",
              "        [0.3333, 0.3333, 0.3333],\n",
              "        [0.3333, 0.3333, 0.3333],\n",
              "        [0.3333, 0.3333, 0.3333],\n",
              "        [0.3333, 0.3333, 0.3333],\n",
              "        [0.3333, 0.3333, 0.3333],\n",
              "        [0.3333, 0.3333, 0.3333],\n",
              "        [0.3333, 0.3333, 0.3333],\n",
              "        [0.3333, 0.3333, 0.3333],\n",
              "        [0.3333, 0.3333, 0.3333],\n",
              "        [0.3333, 0.3333, 0.3333],\n",
              "        [0.3333, 0.3333, 0.3333],\n",
              "        [0.3333, 0.3333, 0.3333],\n",
              "        [0.3333, 0.3333, 0.3333],\n",
              "        [0.3333, 0.3333, 0.3333],\n",
              "        [0.3333, 0.3333, 0.3333],\n",
              "        [0.3333, 0.3333, 0.3333]])"
            ]
          },
          "execution_count": 36,
          "metadata": {},
          "output_type": "execute_result"
        }
      ],
      "source": [
        "layer1.forward(input1)\n",
        "relu_activation.forward(layer1.output)\n",
        "layer1.output = relu_activation.output\n",
        "\n",
        "layer2.forward(layer1.output)\n",
        "relu_activation.forward(layer2.output)\n",
        "layer2.output = relu_activation.output\n",
        "\n",
        "layer3.forward(layer2.output)\n",
        "relu_activation.forward(layer3.output)\n",
        "layer3.output = relu_activation.output\n",
        "\n",
        "output_layer.forward(layer3.output)\n",
        "softmax_activation.forward(output_layer.output)\n",
        "output_layer.output = softmax_activation.output\n",
        "\n",
        "output_layer.output\n"
      ]
    },
    {
      "cell_type": "markdown",
      "metadata": {
        "id": "aaIn9F-_nzae"
      },
      "source": [
        "Working with sigmoid activation for hidden layer and softmax for the output layer"
      ]
    },
    {
      "cell_type": "code",
      "execution_count": null,
      "metadata": {
        "colab": {
          "base_uri": "https://localhost:8080/"
        },
        "id": "44hceMscoEbc",
        "outputId": "72ba34c4-414b-4f2e-a0cb-2aed71d9f5d9"
      },
      "outputs": [
        {
          "data": {
            "text/plain": [
              "tensor([[0.3333, 0.3333, 0.3333],\n",
              "        [0.3333, 0.3333, 0.3333],\n",
              "        [0.3333, 0.3333, 0.3333],\n",
              "        [0.3333, 0.3333, 0.3333],\n",
              "        [0.3333, 0.3333, 0.3333],\n",
              "        [0.3333, 0.3333, 0.3333],\n",
              "        [0.3333, 0.3333, 0.3333],\n",
              "        [0.3333, 0.3333, 0.3333],\n",
              "        [0.3333, 0.3333, 0.3333],\n",
              "        [0.3333, 0.3333, 0.3333],\n",
              "        [0.3333, 0.3333, 0.3333],\n",
              "        [0.3333, 0.3333, 0.3333],\n",
              "        [0.3333, 0.3333, 0.3333],\n",
              "        [0.3333, 0.3333, 0.3333],\n",
              "        [0.3333, 0.3333, 0.3333],\n",
              "        [0.3333, 0.3333, 0.3333],\n",
              "        [0.3333, 0.3333, 0.3333],\n",
              "        [0.3333, 0.3333, 0.3333],\n",
              "        [0.3333, 0.3333, 0.3333],\n",
              "        [0.3333, 0.3333, 0.3333],\n",
              "        [0.3333, 0.3333, 0.3333],\n",
              "        [0.3333, 0.3333, 0.3333],\n",
              "        [0.3333, 0.3333, 0.3333],\n",
              "        [0.3333, 0.3333, 0.3333],\n",
              "        [0.3333, 0.3333, 0.3333],\n",
              "        [0.3333, 0.3333, 0.3333],\n",
              "        [0.3333, 0.3333, 0.3333],\n",
              "        [0.3333, 0.3333, 0.3333],\n",
              "        [0.3333, 0.3333, 0.3333],\n",
              "        [0.3333, 0.3333, 0.3333],\n",
              "        [0.3333, 0.3333, 0.3333],\n",
              "        [0.3333, 0.3333, 0.3333]])"
            ]
          },
          "execution_count": 32,
          "metadata": {},
          "output_type": "execute_result"
        }
      ],
      "source": [
        "layer1.forward(input1)\n",
        "sigmoid_activation.forward(layer1.output)\n",
        "layer1.output = sigmoid_activation.output\n",
        "\n",
        "layer2.forward(layer1.output)\n",
        "sigmoid_activation.forward(layer2.output)\n",
        "layer2.output = sigmoid_activation.output\n",
        "\n",
        "layer3.forward(layer2.output)\n",
        "sigmoid_activation.forward(layer3.output)\n",
        "layer3.output = sigmoid_activation.output\n",
        "\n",
        "output_layer.forward(layer3.output)\n",
        "sigmoid_activation.forward(output_layer.output)\n",
        "output_layer.output = softmax_activation.output\n",
        "\n",
        "output_layer.output"
      ]
    },
    {
      "cell_type": "markdown",
      "metadata": {
        "id": "8F1uJuO-orO_"
      },
      "source": [
        "Calculating Loss"
      ]
    },
    {
      "cell_type": "code",
      "execution_count": null,
      "metadata": {},
      "outputs": [],
      "source": [
        "output_true =torch.randint(0, 3, (32,))\n",
        "loss = loss_categorical.forward(output_layer.output, output_true)\n",
        "accuracy = calculate_accuracy(output_layer.output, output_true)\n",
        "\n",
        "print(loss)\n",
        "print(accuracy)"
      ]
    },
    {
      "cell_type": "markdown",
      "metadata": {},
      "source": []
    }
  ],
  "metadata": {
    "colab": {
      "provenance": []
    },
    "kernelspec": {
      "display_name": "Python 3",
      "name": "python3"
    },
    "language_info": {
      "name": "python"
    }
  },
  "nbformat": 4,
  "nbformat_minor": 0
}
