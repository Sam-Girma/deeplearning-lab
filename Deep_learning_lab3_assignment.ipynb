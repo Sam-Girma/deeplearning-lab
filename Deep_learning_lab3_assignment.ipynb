{
  "nbformat": 4,
  "nbformat_minor": 0,
  "metadata": {
    "colab": {
      "provenance": []
    },
    "kernelspec": {
      "name": "python3",
      "display_name": "Python 3"
    },
    "language_info": {
      "name": "python"
    }
  },
  "cells": [
    {
      "cell_type": "code",
      "source": [
        "import torch"
      ],
      "metadata": {
        "id": "Nqn_E_CrbL8V"
      },
      "execution_count": null,
      "outputs": []
    },
    {
      "cell_type": "code",
      "execution_count": null,
      "metadata": {
        "id": "l08Ti7dJTM4a"
      },
      "outputs": [],
      "source": [
        "class DenseLayer:\n",
        "\n",
        "  # Layer initialization\n",
        "  def __init__(self, n_inputs, n_neurons):\n",
        "    # Initialize weights and biases\n",
        "    self.weights = 0.01 * torch.rand(n_inputs, n_neurons)\n",
        "    self.biases = torch.zeros((1, n_neurons))\n",
        "\n",
        "  # Forward pass\n",
        "  def forward(self, inputs):\n",
        "    # Calculate output values from inputs, weights and biases\n",
        "    self.output = torch.matmul(inputs, self.weights) + self.biases"
      ]
    },
    {
      "cell_type": "code",
      "source": [
        "# ReLU activation\n",
        "class Activation_ReLU:\n",
        "  # Forward pass\n",
        "  def forward(self, inputs):\n",
        "    self.output = torch.max(inputs, torch.tensor(0))\n",
        "    return self.output"
      ],
      "metadata": {
        "id": "9GNf0n9RTT_x"
      },
      "execution_count": null,
      "outputs": []
    },
    {
      "cell_type": "code",
      "source": [
        "# Sigmoid activation\n",
        "class Activation_Sigmoid:\n",
        "  # Forward pass\n",
        "  def forward(self, inputs):\n",
        "    self.output = 1 / (1 + torch.exp(-inputs))"
      ],
      "metadata": {
        "id": "MRcHHEIAbayu"
      },
      "execution_count": null,
      "outputs": []
    },
    {
      "cell_type": "code",
      "source": [
        "# softmax activation\n",
        "class Activation_Softmax:\n",
        "    # Forward pass\n",
        "    def forward(self, inputs):\n",
        "        # Get unnormalized probabilities (logits)\n",
        "        exp_values = torch.exp(inputs - torch.max(inputs, dim=-1, keepdim=True)[0])\n",
        "\n",
        "        # Normalize them for each sample\n",
        "        probabilities = exp_values / torch.sum(exp_values, dim=-1, keepdim=True)\n",
        "\n",
        "        self.output = probabilities\n",
        "        return probabilities"
      ],
      "metadata": {
        "id": "1uetGo3HcD2G"
      },
      "execution_count": null,
      "outputs": []
    },
    {
      "cell_type": "markdown",
      "source": [
        "#Initialize the layers"
      ],
      "metadata": {
        "id": "C6ItjY-0gMGW"
      }
    },
    {
      "cell_type": "code",
      "source": [
        "# input layer\n",
        "layer1 = DenseLayer(4, 18)\n",
        "layer2 = DenseLayer(18, 18)\n",
        "layer3 = DenseLayer(18, 18)\n",
        "output_layer = DenseLayer(18, 3)"
      ],
      "metadata": {
        "id": "nDKsZbpifId0"
      },
      "execution_count": null,
      "outputs": []
    },
    {
      "cell_type": "markdown",
      "source": [
        "#Initialize the activation functions"
      ],
      "metadata": {
        "id": "oDOqGTfqhFtT"
      }
    },
    {
      "cell_type": "code",
      "source": [
        "relu_activation = Activation_ReLU()\n",
        "sigmoid_activation = Activation_Sigmoid()\n",
        "softmax_activation = Activation_Softmax()"
      ],
      "metadata": {
        "id": "H1pQ6uFKhNep"
      },
      "execution_count": null,
      "outputs": []
    },
    {
      "cell_type": "markdown",
      "source": [
        "initialize the first input"
      ],
      "metadata": {
        "id": "-kRhsY9lgfzb"
      }
    },
    {
      "cell_type": "code",
      "source": [
        "input1 = torch.rand(32, 4)\n"
      ],
      "metadata": {
        "id": "HTr9miRIgYMA"
      },
      "execution_count": null,
      "outputs": []
    },
    {
      "cell_type": "markdown",
      "source": [
        "Working with relu activation for hidden layer and softmax for the output layer"
      ],
      "metadata": {
        "id": "OB7qCsLjlRvZ"
      }
    },
    {
      "cell_type": "code",
      "source": [
        "layer1.forward(input1)\n",
        "relu_activation.forward(layer1.output)\n",
        "layer1.output = relu_activation.output\n",
        "\n",
        "layer2.forward(layer1.output)\n",
        "relu_activation.forward(layer2.output)\n",
        "layer2.output = relu_activation.output\n",
        "\n",
        "layer3.forward(layer2.output)\n",
        "relu_activation.forward(layer3.output)\n",
        "layer3.output = relu_activation.output\n",
        "\n",
        "output_layer.forward(layer3.output)\n",
        "softmax_activation.forward(output_layer.output)\n",
        "output_layer.output = softmax_activation.output\n",
        "\n",
        "output_layer.output\n"
      ],
      "metadata": {
        "colab": {
          "base_uri": "https://localhost:8080/"
        },
        "id": "LfcTzzxJld_U",
        "outputId": "60cb0ca1-833d-48b3-b16a-a85cbf3fdbe0"
      },
      "execution_count": null,
      "outputs": [
        {
          "output_type": "execute_result",
          "data": {
            "text/plain": [
              "tensor([[0.3333, 0.3333, 0.3333],\n",
              "        [0.3333, 0.3333, 0.3333],\n",
              "        [0.3333, 0.3333, 0.3333],\n",
              "        [0.3333, 0.3333, 0.3333],\n",
              "        [0.3333, 0.3333, 0.3333],\n",
              "        [0.3333, 0.3333, 0.3333],\n",
              "        [0.3333, 0.3333, 0.3333],\n",
              "        [0.3333, 0.3333, 0.3333],\n",
              "        [0.3333, 0.3333, 0.3333],\n",
              "        [0.3333, 0.3333, 0.3333],\n",
              "        [0.3333, 0.3333, 0.3333],\n",
              "        [0.3333, 0.3333, 0.3333],\n",
              "        [0.3333, 0.3333, 0.3333],\n",
              "        [0.3333, 0.3333, 0.3333],\n",
              "        [0.3333, 0.3333, 0.3333],\n",
              "        [0.3333, 0.3333, 0.3333],\n",
              "        [0.3333, 0.3333, 0.3333],\n",
              "        [0.3333, 0.3333, 0.3333],\n",
              "        [0.3333, 0.3333, 0.3333],\n",
              "        [0.3333, 0.3333, 0.3333],\n",
              "        [0.3333, 0.3333, 0.3333],\n",
              "        [0.3333, 0.3333, 0.3333],\n",
              "        [0.3333, 0.3333, 0.3333],\n",
              "        [0.3333, 0.3333, 0.3333],\n",
              "        [0.3333, 0.3333, 0.3333],\n",
              "        [0.3333, 0.3333, 0.3333],\n",
              "        [0.3333, 0.3333, 0.3333],\n",
              "        [0.3333, 0.3333, 0.3333],\n",
              "        [0.3333, 0.3333, 0.3333],\n",
              "        [0.3333, 0.3333, 0.3333],\n",
              "        [0.3333, 0.3333, 0.3333],\n",
              "        [0.3333, 0.3333, 0.3333]])"
            ]
          },
          "metadata": {},
          "execution_count": 36
        }
      ]
    },
    {
      "cell_type": "markdown",
      "source": [
        "Working with sigmoid activation for hidden layer and softmax for the output layer"
      ],
      "metadata": {
        "id": "aaIn9F-_nzae"
      }
    },
    {
      "cell_type": "code",
      "source": [
        "layer1.forward(input1)\n",
        "sigmoid_activation.forward(layer1.output)\n",
        "layer1.output = sigmoid_activation.output\n",
        "\n",
        "layer2.forward(layer1.output)\n",
        "sigmoid_activation.forward(layer2.output)\n",
        "layer2.output = sigmoid_activation.output\n",
        "\n",
        "layer3.forward(layer2.output)\n",
        "sigmoid_activation.forward(layer3.output)\n",
        "layer3.output = sigmoid_activation.output\n",
        "\n",
        "output_layer.forward(layer3.output)\n",
        "sigmoid_activation.forward(output_layer.output)\n",
        "output_layer.output = softmax_activation.output\n",
        "\n",
        "output_layer.output"
      ],
      "metadata": {
        "colab": {
          "base_uri": "https://localhost:8080/"
        },
        "id": "44hceMscoEbc",
        "outputId": "72ba34c4-414b-4f2e-a0cb-2aed71d9f5d9"
      },
      "execution_count": null,
      "outputs": [
        {
          "output_type": "execute_result",
          "data": {
            "text/plain": [
              "tensor([[0.3333, 0.3333, 0.3333],\n",
              "        [0.3333, 0.3333, 0.3333],\n",
              "        [0.3333, 0.3333, 0.3333],\n",
              "        [0.3333, 0.3333, 0.3333],\n",
              "        [0.3333, 0.3333, 0.3333],\n",
              "        [0.3333, 0.3333, 0.3333],\n",
              "        [0.3333, 0.3333, 0.3333],\n",
              "        [0.3333, 0.3333, 0.3333],\n",
              "        [0.3333, 0.3333, 0.3333],\n",
              "        [0.3333, 0.3333, 0.3333],\n",
              "        [0.3333, 0.3333, 0.3333],\n",
              "        [0.3333, 0.3333, 0.3333],\n",
              "        [0.3333, 0.3333, 0.3333],\n",
              "        [0.3333, 0.3333, 0.3333],\n",
              "        [0.3333, 0.3333, 0.3333],\n",
              "        [0.3333, 0.3333, 0.3333],\n",
              "        [0.3333, 0.3333, 0.3333],\n",
              "        [0.3333, 0.3333, 0.3333],\n",
              "        [0.3333, 0.3333, 0.3333],\n",
              "        [0.3333, 0.3333, 0.3333],\n",
              "        [0.3333, 0.3333, 0.3333],\n",
              "        [0.3333, 0.3333, 0.3333],\n",
              "        [0.3333, 0.3333, 0.3333],\n",
              "        [0.3333, 0.3333, 0.3333],\n",
              "        [0.3333, 0.3333, 0.3333],\n",
              "        [0.3333, 0.3333, 0.3333],\n",
              "        [0.3333, 0.3333, 0.3333],\n",
              "        [0.3333, 0.3333, 0.3333],\n",
              "        [0.3333, 0.3333, 0.3333],\n",
              "        [0.3333, 0.3333, 0.3333],\n",
              "        [0.3333, 0.3333, 0.3333],\n",
              "        [0.3333, 0.3333, 0.3333]])"
            ]
          },
          "metadata": {},
          "execution_count": 32
        }
      ]
    },
    {
      "cell_type": "markdown",
      "source": [
        "Calculating Loss"
      ],
      "metadata": {
        "id": "8F1uJuO-orO_"
      }
    }
  ]
}